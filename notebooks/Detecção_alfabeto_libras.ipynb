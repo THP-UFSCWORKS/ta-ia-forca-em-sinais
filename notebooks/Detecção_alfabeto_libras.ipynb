{
  "cells": [
    {
      "cell_type": "markdown",
      "metadata": {},
      "source": [
        "#### Imports"
      ]
    },
    {
      "cell_type": "code",
      "execution_count": 1,
      "metadata": {},
      "outputs": [],
      "source": [
        "from ultralytics import YOLO"
      ]
    },
    {
      "cell_type": "markdown",
      "metadata": {},
      "source": [
        "#### Treinamento"
      ]
    },
    {
      "cell_type": "code",
      "execution_count": null,
      "metadata": {
        "colab": {
          "base_uri": "https://localhost:8080/"
        },
        "id": "88UWTv6ctru0",
        "outputId": "3572ab3b-2a05-4d95-cf3a-41e3e0abda8f"
      },
      "outputs": [],
      "source": [
        "# model = YOLO(\"/content/drive/MyDrive/Colab Notebooks/yolov5s.pt\") #seleciona o modelo yolo5s\n",
        "# model.train(\n",
        "#     data=\"/content/drive/MyDrive/Colab Notebooks/treinamentos-yolov5-libras/dataset libras/data.yaml\",\n",
        "#     epochs=30,\n",
        "#     batch=16,\n",
        "#     imgsz=640,\n",
        "#     name=\"/content/drive/MyDrive/Colab Notebooks/treinamentos-yolov5-libras/train\",\n",
        "#     )  # Treina o modelo com o dataset ja estabelecido\n",
        "#     # usando o pre-treino, usando 30 epocas e batch que define o tamanho do lote (batch size) para cada iteração de treinamento. Um lote de tamanho 16 significa que 16 imagens serão processadas por vez\n",
        "# metrics = model.val()  # evaluate model performance on the validation set"
      ]
    },
    {
      "cell_type": "markdown",
      "metadata": {},
      "source": [
        "#### Predição"
      ]
    },
    {
      "cell_type": "code",
      "execution_count": 2,
      "metadata": {
        "colab": {
          "base_uri": "https://localhost:8080/"
        },
        "id": "disPKRAVqSSX",
        "outputId": "7f3d1534-15ea-460d-9f9e-4959d5019f3b"
      },
      "outputs": [
        {
          "name": "stdout",
          "output_type": "stream",
          "text": [
            "\n",
            "image 1/1 /home/thehprogrammer/Documentos/Creche/up_to_date/Semester_08/IA2/forca_em_sinais/notebooks/../data/images/v.jpeg: 640x384 1 V, 174.7ms\n",
            "Speed: 6.1ms preprocess, 174.7ms inference, 226.0ms postprocess per image at shape (1, 3, 640, 384)\n"
          ]
        },
        {
          "name": "stdout",
          "output_type": "stream",
          "text": [
            "Abrindo em uma sessão de navegador existente.\n"
          ]
        }
      ],
      "source": [
        "\n",
        "#Carrega o arquivo com melhor treinamento localizado no train(NECESSARIO ALTERAR A CADA NOVO TREINAMENTO)\n",
        "model = YOLO(\"../data/train/weights/best.pt\")\n",
        "\n",
        "# Use the model\n",
        "# pega os resultados pra usar no codigo depois (util pra usar no video)\n",
        "results = model(\"../data/images/v.jpeg\")  # predict on an image\n",
        "# Process results list\n",
        "for result in results:\n",
        "    boxes = result.boxes  # Boxes object for bounding box outputs\n",
        "    masks = result.masks  # Masks object for segmentation masks outputs\n",
        "    keypoints = result.keypoints  # Keypoints object for pose outputs\n",
        "    probs = result.probs  # Probs object for classification outputs\n",
        "    obb = result.obb  # Oriented boxes object for OBB outputs\n",
        "    result.show()  # display to screen\n",
        "    result.save(filename=\"result.jpg\")  # save to disk\n",
        "# draw results\n"
      ]
    },
    {
      "cell_type": "code",
      "execution_count": 3,
      "metadata": {
        "colab": {
          "base_uri": "https://localhost:8080/"
        },
        "id": "fbtoVJgMqYv6",
        "outputId": "1fab1936-e682-4c42-caf7-6a294d7ba962"
      },
      "outputs": [
        {
          "name": "stdout",
          "output_type": "stream",
          "text": [
            "Ultralytics YOLOv8.2.45 🚀 Python-3.12.3 torch-2.3.1+cu121 CPU (Intel Core(TM) i5-10300H 2.50GHz)\n",
            "\n",
            "\u001b[34m\u001b[1mPyTorch:\u001b[0m starting from '../data/train/weights/best.pt' with input shape (1, 3, 640, 640) BCHW and output shape(s) (1, 26, 8400) (17.7 MB)\n",
            "\u001b[31m\u001b[1mrequirements:\u001b[0m Ultralytics requirement ['onnx>=1.12.0'] not found, attempting AutoUpdate...\n",
            "Collecting onnx>=1.12.0\n",
            "  Downloading onnx-1.16.1-cp312-cp312-manylinux_2_17_x86_64.manylinux2014_x86_64.whl.metadata (16 kB)\n",
            "Requirement already satisfied: numpy>=1.20 in /home/thehprogrammer/Documentos/Creche/up_to_date/Semester_08/IA2/forca_em_sinais/.venv/lib/python3.12/site-packages (from onnx>=1.12.0) (1.26.4)\n",
            "Collecting protobuf>=3.20.2 (from onnx>=1.12.0)\n",
            "  Downloading protobuf-5.27.2-cp38-abi3-manylinux2014_x86_64.whl.metadata (592 bytes)\n",
            "Downloading onnx-1.16.1-cp312-cp312-manylinux_2_17_x86_64.manylinux2014_x86_64.whl (15.9 MB)\n",
            "\u001b[2K   \u001b[38;2;114;156;31m━━━━━━━━━━━━━━━━━━━━━━━━━━━━━━━━━━━━━━━━\u001b[0m \u001b[32m15.9/15.9 MB\u001b[0m \u001b[31m3.2 MB/s\u001b[0m eta \u001b[36m0:00:00\u001b[0mm eta \u001b[36m0:00:01\u001b[0m[36m0:00:01\u001b[0m\n",
            "\u001b[?25hDownloading protobuf-5.27.2-cp38-abi3-manylinux2014_x86_64.whl (309 kB)\n",
            "\u001b[2K   \u001b[38;2;114;156;31m━━━━━━━━━━━━━━━━━━━━━━━━━━━━━━━━━━━━━━━━\u001b[0m \u001b[32m309.3/309.3 kB\u001b[0m \u001b[31m3.1 MB/s\u001b[0m eta \u001b[36m0:00:00\u001b[0m[31m3.1 MB/s\u001b[0m eta \u001b[36m0:00:01\u001b[0m\n",
            "\u001b[?25hInstalling collected packages: protobuf, onnx\n",
            "Successfully installed onnx-1.16.1 protobuf-5.27.2\n",
            "\n",
            "\u001b[31m\u001b[1mrequirements:\u001b[0m AutoUpdate success ✅ 11.3s, installed 1 package: ['onnx>=1.12.0']\n",
            "\u001b[31m\u001b[1mrequirements:\u001b[0m ⚠️ \u001b[1mRestart runtime or rerun command for updates to take effect\u001b[0m\n",
            "\n",
            "\n",
            "\u001b[34m\u001b[1mONNX:\u001b[0m starting export with onnx 1.16.1 opset 17...\n",
            "\u001b[34m\u001b[1mONNX:\u001b[0m export success ✅ 13.6s, saved as '../data/train/weights/best.onnx' (35.0 MB)\n",
            "\n",
            "Export complete (16.9s)\n",
            "Results saved to \u001b[1m/home/thehprogrammer/Documentos/Creche/up_to_date/Semester_08/IA2/forca_em_sinais/data/train/weights\u001b[0m\n",
            "Predict:         yolo predict task=detect model=../data/train/weights/best.onnx imgsz=640  \n",
            "Validate:        yolo val task=detect model=../data/train/weights/best.onnx imgsz=640 data=/content/drive/MyDrive/Colab Notebooks/treinamentos-yolov5-libras/dataset libras/data.yaml  \n",
            "Visualize:       https://netron.app\n"
          ]
        }
      ],
      "source": [
        "path = model.export(format=\"onnx\")  # export the model to ONNX format"
      ]
    }
  ],
  "metadata": {
    "accelerator": "GPU",
    "colab": {
      "gpuType": "T4",
      "provenance": []
    },
    "kernelspec": {
      "display_name": "Python 3",
      "name": "python3"
    },
    "language_info": {
      "codemirror_mode": {
        "name": "ipython",
        "version": 3
      },
      "file_extension": ".py",
      "mimetype": "text/x-python",
      "name": "python",
      "nbconvert_exporter": "python",
      "pygments_lexer": "ipython3",
      "version": "3.12.3"
    }
  },
  "nbformat": 4,
  "nbformat_minor": 0
}
